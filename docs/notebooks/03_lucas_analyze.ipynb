{
 "cells": [
  {
   "cell_type": "markdown",
   "id": "planned-heading",
   "metadata": {},
   "source": [
    "## Class aggregation"
   ]
  },
  {
   "cell_type": "markdown",
   "id": "62332b33",
   "metadata": {},
   "source": [
    "#### Import st_lucas library"
   ]
  },
  {
   "cell_type": "code",
   "execution_count": 1,
   "id": "7a252f4a",
   "metadata": {},
   "outputs": [],
   "source": [
    "# To work with local st_lucas code\n",
    "# import sys\n",
    "# sys.path.append('../../')\n",
    "\n",
    "from st_lucas import LucasRequest, LucasIO, LucasClassAggregate"
   ]
  },
  {
   "cell_type": "markdown",
   "id": "9f4b71fd",
   "metadata": {},
   "source": [
    "#### Define request\n",
    "\n",
    "Request LUCAS points located in the Czech Republic and surveyed in 2018."
   ]
  },
  {
   "cell_type": "code",
   "execution_count": 2,
   "id": "cd98872f",
   "metadata": {},
   "outputs": [],
   "source": [
    "from owslib.fes import PropertyIsEqualTo, Or\n",
    "\n",
    "request = LucasRequest()\n",
    "request.countries = ['CZ']\n",
    "request.years = [2018]"
   ]
  },
  {
   "cell_type": "markdown",
   "id": "361ae58a",
   "metadata": {},
   "source": [
    "#### Download data"
   ]
  },
  {
   "cell_type": "code",
   "execution_count": 3,
   "id": "360341c4",
   "metadata": {},
   "outputs": [
    {
     "name": "stdout",
     "output_type": "stream",
     "text": [
      "2022-05-10 09:45:49,976 - LUCAS - INFO - io.__init__ - Using owslib version 0.22.0\n",
      "2022-05-10 09:45:50,230 - LUCAS - INFO - io.download - Connected to https://geoforall.fsv.cvut.cz/st_lucas/geoserver/wfs\n",
      "2022-05-10 09:45:50,231 - LUCAS - INFO - io.download - Request: {'srsname': 'http://www.opengis.net/gml/srs/epsg.xml#3035', 'typename': 'lucas:lucas_points', 'filter': '<ogc:And xmlns:ogc=\"http://www.opengis.net/ogc\"><ogc:PropertyIsEqualTo><ogc:PropertyName>nuts0</ogc:PropertyName><ogc:Literal>CZ</ogc:Literal></ogc:PropertyIsEqualTo><ogc:PropertyIsEqualTo><ogc:PropertyName>survey_year</ogc:PropertyName><ogc:Literal>2018</ogc:Literal></ogc:PropertyIsEqualTo></ogc:And>'}\n",
      "2022-05-10 09:45:51,512 - LUCAS - INFO - io.download - Download process successfuly finished. Size of downloaded data: 27370kb\n"
     ]
    }
   ],
   "source": [
    "lucasio = LucasIO()\n",
    "lucasio.download(request)"
   ]
  },
  {
   "cell_type": "markdown",
   "id": "c10c2199",
   "metadata": {},
   "source": [
    "#### Inspect downloaded LUCAS data"
   ]
  },
  {
   "cell_type": "code",
   "execution_count": 4,
   "id": "076d9698",
   "metadata": {},
   "outputs": [
    {
     "name": "stdout",
     "output_type": "stream",
     "text": [
      "2022-05-10 09:46:19,897 - numexpr.utils - INFO - utils._init_num_threads - Note: NumExpr detected 12 cores but \"NUMEXPR_MAX_THREADS\" not set, so enforcing safe limit of 8.\n",
      "2022-05-10 09:46:19,898 - numexpr.utils - INFO - utils._init_num_threads - NumExpr defaulting to 8 threads.\n"
     ]
    },
    {
     "data": {
      "text/html": [
       "<div>\n",
       "<style scoped>\n",
       "    .dataframe tbody tr th:only-of-type {\n",
       "        vertical-align: middle;\n",
       "    }\n",
       "\n",
       "    .dataframe tbody tr th {\n",
       "        vertical-align: top;\n",
       "    }\n",
       "\n",
       "    .dataframe thead th {\n",
       "        text-align: right;\n",
       "    }\n",
       "</style>\n",
       "<table border=\"1\" class=\"dataframe\">\n",
       "  <thead>\n",
       "    <tr style=\"text-align: right;\">\n",
       "      <th></th>\n",
       "      <th>point_id</th>\n",
       "      <th>lc1</th>\n",
       "    </tr>\n",
       "  </thead>\n",
       "  <tbody>\n",
       "    <tr>\n",
       "      <th>0</th>\n",
       "      <td>48462894</td>\n",
       "      <td>A30</td>\n",
       "    </tr>\n",
       "    <tr>\n",
       "      <th>1</th>\n",
       "      <td>46142892</td>\n",
       "      <td>C10</td>\n",
       "    </tr>\n",
       "    <tr>\n",
       "      <th>2</th>\n",
       "      <td>48042992</td>\n",
       "      <td>A30</td>\n",
       "    </tr>\n",
       "    <tr>\n",
       "      <th>3</th>\n",
       "      <td>46142990</td>\n",
       "      <td>A30</td>\n",
       "    </tr>\n",
       "    <tr>\n",
       "      <th>4</th>\n",
       "      <td>45462942</td>\n",
       "      <td>A22</td>\n",
       "    </tr>\n",
       "    <tr>\n",
       "      <th>...</th>\n",
       "      <td>...</td>\n",
       "      <td>...</td>\n",
       "    </tr>\n",
       "    <tr>\n",
       "      <th>5708</th>\n",
       "      <td>46742866</td>\n",
       "      <td>G11</td>\n",
       "    </tr>\n",
       "    <tr>\n",
       "      <th>5709</th>\n",
       "      <td>46123012</td>\n",
       "      <td>A22</td>\n",
       "    </tr>\n",
       "    <tr>\n",
       "      <th>5710</th>\n",
       "      <td>47002938</td>\n",
       "      <td>A12</td>\n",
       "    </tr>\n",
       "    <tr>\n",
       "      <th>5711</th>\n",
       "      <td>47402970</td>\n",
       "      <td>A11</td>\n",
       "    </tr>\n",
       "    <tr>\n",
       "      <th>5712</th>\n",
       "      <td>46222920</td>\n",
       "      <td>A12</td>\n",
       "    </tr>\n",
       "  </tbody>\n",
       "</table>\n",
       "<p>5713 rows × 2 columns</p>\n",
       "</div>"
      ],
      "text/plain": [
       "      point_id  lc1\n",
       "0     48462894  A30\n",
       "1     46142892  C10\n",
       "2     48042992  A30\n",
       "3     46142990  A30\n",
       "4     45462942  A22\n",
       "...        ...  ...\n",
       "5708  46742866  G11\n",
       "5709  46123012  A22\n",
       "5710  47002938  A12\n",
       "5711  47402970  A11\n",
       "5712  46222920  A12\n",
       "\n",
       "[5713 rows x 2 columns]"
      ]
     },
     "execution_count": 4,
     "metadata": {},
     "output_type": "execute_result"
    }
   ],
   "source": [
    "df = lucasio.to_geopandas()\n",
    "df[[\"point_id\",\"lc1\"]]"
   ]
  },
  {
   "cell_type": "markdown",
   "id": "f9f052fe",
   "metadata": {},
   "source": [
    "#### Show statistics"
   ]
  },
  {
   "cell_type": "code",
   "execution_count": 5,
   "id": "b6c1b36e",
   "metadata": {},
   "outputs": [
    {
     "data": {
      "text/plain": [
       "count     5713\n",
       "unique      57\n",
       "top        E20\n",
       "freq       990\n",
       "Name: lc1, dtype: object"
      ]
     },
     "execution_count": 5,
     "metadata": {},
     "output_type": "execute_result"
    }
   ],
   "source": [
    "df[\"lc1\"].describe()"
   ]
  },
  {
   "cell_type": "code",
   "execution_count": 6,
   "id": "612c8e73",
   "metadata": {},
   "outputs": [
    {
     "data": {
      "text/plain": [
       "<AxesSubplot:ylabel='lc1_l1'>"
      ]
     },
     "execution_count": 6,
     "metadata": {},
     "output_type": "execute_result"
    },
    {
     "data": {
      "image/png": "[encoded data removed]",
      "text/plain": [
       "<Figure size 720x720 with 1 Axes>"
      ]
     },
     "metadata": {},
     "output_type": "display_data"
    }
   ],
   "source": [
    "df['lc1_l1'] = df['lc1'].str.slice(0,1)\n",
    "df['lc1_l1'].value_counts().plot.pie(figsize=(10, 10), autopct=\"%.1f\")"
   ]
  },
  {
   "cell_type": "markdown",
   "id": "030d6a4c",
   "metadata": {},
   "source": [
    "#### Apply aggregation\n",
    "\n",
    "LUCAS points are by default obtained with information corresponding to LUCAS land cover level 3. With the `LucasClassAggregate` method, you can get information about level 2 or level 1. New column will be added at the end of attribute table."
   ]
  },
  {
   "cell_type": "code",
   "execution_count": 7,
   "id": "cc01d224",
   "metadata": {},
   "outputs": [],
   "source": [
    "lc1_to_level1 = {\n",
    "    \"A00\": [\"A11\", \"A12\", \"A13\", \"A21\", \"A22\", \"A30\"],\n",
    "    \"B00\": [\"B11\", \"B12\", \"B13\", \"B14\", \"B15\", \"B16\", \"B17\", \"B18\", \"B19\", \"B21\", \"B22\", \"B23\", \"B31\", \"B32\", \"B33\", \"B34\", \"B35\", \"B36\", \"B37\", \"B41\", \"B42\", \"B43\", \"B44\", \"B45\", \"B51\", \"B52\", \"B53\", \"B54\", \"B55\", \"B71\", \"B72\", \"B73\", \"B74\", \"B75\", \"B76\", \"B77\", \"B81\", \"B82\", \"B83\", \"B84\"],\n",
    "    \"Bx1\": [\"Bx1\"],\n",
    "    \"Bx2\": [\"Bx2\"],\n",
    "    \"C00\": [\"C10\", \"C21\", \"C22\", \"C23\", \"C31\", \"C32\", \"C33\"],\n",
    "    \"D00\": [\"D10\", \"D20\"],\n",
    "    \"E00\": [\"E10\", \"E20\", \"E30\"],\n",
    "    \"F00\": [\"F10\", \"F20\", \"F30\", \"F40\"],\n",
    "    \"G00\": [\"G11\", \"G12\", \"G21\", \"G22\", \"G30\", \"G40\", \"G50\"],\n",
    "    \"H00\": [\"H11\", \"H12\", \"H21\", \"H22\", \"H23\"]\n",
    "}\n",
    "\n",
    "lucasaggr = LucasClassAggregate(lucasio.data, mappings=lc1_to_level1)\n",
    "# lucasaggr = LucasClassAggregate(lucasio.data, mappings_file='aggregation_lc1_h_to_level1.json')\n",
    "lucasaggr.apply()"
   ]
  },
  {
   "cell_type": "markdown",
   "id": "0644183e",
   "metadata": {},
   "source": [
    "Check the appearance of the new column."
   ]
  },
  {
   "cell_type": "code",
   "execution_count": 8,
   "id": "7520e894",
   "metadata": {},
   "outputs": [
    {
     "data": {
      "text/html": [
       "<div>\n",
       "<style scoped>\n",
       "    .dataframe tbody tr th:only-of-type {\n",
       "        vertical-align: middle;\n",
       "    }\n",
       "\n",
       "    .dataframe tbody tr th {\n",
       "        vertical-align: top;\n",
       "    }\n",
       "\n",
       "    .dataframe thead th {\n",
       "        text-align: right;\n",
       "    }\n",
       "</style>\n",
       "<table border=\"1\" class=\"dataframe\">\n",
       "  <thead>\n",
       "    <tr style=\"text-align: right;\">\n",
       "      <th></th>\n",
       "      <th>lc1_h</th>\n",
       "      <th>lc1_a</th>\n",
       "    </tr>\n",
       "  </thead>\n",
       "  <tbody>\n",
       "    <tr>\n",
       "      <th>0</th>\n",
       "      <td>A30</td>\n",
       "      <td>A00</td>\n",
       "    </tr>\n",
       "    <tr>\n",
       "      <th>1</th>\n",
       "      <td>C10</td>\n",
       "      <td>C00</td>\n",
       "    </tr>\n",
       "    <tr>\n",
       "      <th>2</th>\n",
       "      <td>A30</td>\n",
       "      <td>A00</td>\n",
       "    </tr>\n",
       "    <tr>\n",
       "      <th>3</th>\n",
       "      <td>A30</td>\n",
       "      <td>A00</td>\n",
       "    </tr>\n",
       "    <tr>\n",
       "      <th>4</th>\n",
       "      <td>A22</td>\n",
       "      <td>A00</td>\n",
       "    </tr>\n",
       "  </tbody>\n",
       "</table>\n",
       "</div>"
      ],
      "text/plain": [
       "  lc1_h lc1_a\n",
       "0   A30   A00\n",
       "1   C10   C00\n",
       "2   A30   A00\n",
       "3   A30   A00\n",
       "4   A22   A00"
      ]
     },
     "execution_count": 8,
     "metadata": {},
     "output_type": "execute_result"
    }
   ],
   "source": [
    "df = lucasio.to_geopandas()\n",
    "df[[\"lc1_h\", \"lc1_a\"]].head()"
   ]
  },
  {
   "cell_type": "markdown",
   "id": "utility-swaziland",
   "metadata": {},
   "source": [
    "## Nomenclature translation\n",
    "\n",
    "Translate the obtained data into CLC2."
   ]
  },
  {
   "cell_type": "code",
   "execution_count": 9,
   "id": "8cb579ff",
   "metadata": {},
   "outputs": [],
   "source": [
    "from st_lucas import LucasClassTranslate\n",
    "\n",
    "lucastrans = LucasClassTranslate(lucasio.data)\n",
    "lucastrans.set_translations(\"CLC2\")\n",
    "lucastrans.apply()"
   ]
  },
  {
   "cell_type": "markdown",
   "id": "5a5954db",
   "metadata": {},
   "source": [
    "Check the appearance of the new column."
   ]
  },
  {
   "cell_type": "code",
   "execution_count": 10,
   "id": "33aea10b",
   "metadata": {},
   "outputs": [
    {
     "data": {
      "text/html": [
       "<div>\n",
       "<style scoped>\n",
       "    .dataframe tbody tr th:only-of-type {\n",
       "        vertical-align: middle;\n",
       "    }\n",
       "\n",
       "    .dataframe tbody tr th {\n",
       "        vertical-align: top;\n",
       "    }\n",
       "\n",
       "    .dataframe thead th {\n",
       "        text-align: right;\n",
       "    }\n",
       "</style>\n",
       "<table border=\"1\" class=\"dataframe\">\n",
       "  <thead>\n",
       "    <tr style=\"text-align: right;\">\n",
       "      <th></th>\n",
       "      <th>lc1_h</th>\n",
       "      <th>lu1_h</th>\n",
       "      <th>clc2</th>\n",
       "    </tr>\n",
       "  </thead>\n",
       "  <tbody>\n",
       "    <tr>\n",
       "      <th>0</th>\n",
       "      <td>A30</td>\n",
       "      <td>U319</td>\n",
       "      <td>99</td>\n",
       "    </tr>\n",
       "    <tr>\n",
       "      <th>1</th>\n",
       "      <td>C10</td>\n",
       "      <td>U120</td>\n",
       "      <td>31</td>\n",
       "    </tr>\n",
       "    <tr>\n",
       "      <th>2</th>\n",
       "      <td>A30</td>\n",
       "      <td>U319</td>\n",
       "      <td>99</td>\n",
       "    </tr>\n",
       "    <tr>\n",
       "      <th>3</th>\n",
       "      <td>A30</td>\n",
       "      <td>U319</td>\n",
       "      <td>99</td>\n",
       "    </tr>\n",
       "    <tr>\n",
       "      <th>4</th>\n",
       "      <td>A22</td>\n",
       "      <td>U312</td>\n",
       "      <td>12</td>\n",
       "    </tr>\n",
       "  </tbody>\n",
       "</table>\n",
       "</div>"
      ],
      "text/plain": [
       "  lc1_h lu1_h clc2\n",
       "0   A30  U319   99\n",
       "1   C10  U120   31\n",
       "2   A30  U319   99\n",
       "3   A30  U319   99\n",
       "4   A22  U312   12"
      ]
     },
     "execution_count": 10,
     "metadata": {},
     "output_type": "execute_result"
    }
   ],
   "source": [
    "df = lucasio.to_geopandas()\n",
    "df[[\"lc1_h\", \"lu1_h\", \"clc2\"]].head()"
   ]
  }
 ],
 "metadata": {
  "celltoolbar": "Raw Cell Format",
  "kernelspec": {
   "display_name": "Python 3 (ipykernel)",
   "language": "python",
   "name": "python3"
  },
  "language_info": {
   "codemirror_mode": {
    "name": "ipython",
    "version": 3
   },
   "file_extension": ".py",
   "mimetype": "text/x-python",
   "name": "python",
   "nbconvert_exporter": "python",
   "pygments_lexer": "ipython3",
   "version": "3.10.4"
  }
 },
 "nbformat": 4,
 "nbformat_minor": 5
}
