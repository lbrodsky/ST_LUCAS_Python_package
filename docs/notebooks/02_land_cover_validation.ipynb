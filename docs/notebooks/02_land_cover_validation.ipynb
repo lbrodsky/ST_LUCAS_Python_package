{
 "cells": [
  {
   "cell_type": "markdown",
   "id": "f6b4fb29",
   "metadata": {},
   "source": [
    "# Land Cover Validation with LUCAS dataset"
   ]
  },
  {
   "cell_type": "markdown",
   "id": "61c43ba2",
   "metadata": {},
   "source": [
    "This is an example of a land cover product validation using LUCAS points. The process is using the class `Validator` to perform the main validation steps. "
   ]
  },
  {
   "cell_type": "code",
   "execution_count": 1,
   "id": "c5b6d920",
   "metadata": {},
   "outputs": [],
   "source": [
    "import os\n",
    "import sys\n",
    "import yaml \n",
    "\n",
    "from osgeo import gdal\n",
    "from osgeo import gdalconst\n",
    "import geopandas as gpd\n",
    "import numpy \n",
    "\n",
    "import matplotlib.pyplot as plt \n",
    "%matplotlib inline\n",
    "\n",
    "# Python class with methos to run land cover validation \n",
    "from validator import Validator"
   ]
  },
  {
   "cell_type": "markdown",
   "id": "bd684782",
   "metadata": {},
   "source": [
    "### Configure validation \n",
    "\n",
    "Check contents of the `config.yaml` file. "
   ]
  },
  {
   "cell_type": "code",
   "execution_count": 2,
   "id": "69bef016",
   "metadata": {},
   "outputs": [
    {
     "name": "stdout",
     "output_type": "stream",
     "text": [
      "project:\n",
      "  name: 'Geoharmonizer Land Cover validation'\n",
      "  abbrev: 'cz_lc_18'\n",
      "  run_id: '20210907'\n",
      "\n",
      "# land cover & reference definitions \n",
      "input:\n",
      "  # raster map \n",
      "  path: ./sample_land_cover\n",
      "  in_ras: cz_land_cover_osm_2018.tif\n",
      "  ndv: 0\n",
      "  legend: legend.yaml\n",
      "  # vector reference \n",
      "  in_vec: cz_lucas_points_l1_2018.shp\n",
      "  ref_att: 'label_l1'\n",
      "\n",
      "# validation report settings\n",
      "report:\n",
      "  path: ./sample_land_cover\n",
      "  dir_name: 'lc_2018_validation'\n",
      "\n",
      "# validation points for GIS exploration \n",
      "validation_points: \n",
      "    file_name: 'validation_points'\n",
      "    ogr_format: 'ESRI Shapefile'\n",
      "    epsg: 3035 \n",
      "\n",
      "    \n",
      "\n"
     ]
    }
   ],
   "source": [
    "# configuration with sample data \n",
    "config_file = './sample_land_cover/config.yaml'\n",
    "\n",
    "with open(config_file, 'r')as file: \n",
    "    file_contents = file.read()\n",
    "    \n",
    "print(file_contents)"
   ]
  },
  {
   "cell_type": "markdown",
   "id": "2910653b",
   "metadata": {},
   "source": [
    "### Initialize the validator "
   ]
  },
  {
   "cell_type": "markdown",
   "id": "874f9348",
   "metadata": {},
   "source": [
    "Initilize the validator by passing the config file or a Python dictionary with the same structure"
   ]
  },
  {
   "cell_type": "code",
   "execution_count": 3,
   "id": "fbd60738",
   "metadata": {},
   "outputs": [
    {
     "name": "stdout",
     "output_type": "stream",
     "text": [
      "\n",
      "\n",
      "Validation project initialized!\n",
      "Inputs: \n",
      "cz_land_cover_osm_2018.tif\n",
      "cz_lucas_points_l1_2018.shp\n",
      "\n",
      "\n"
     ]
    }
   ],
   "source": [
    "validation = Validator(config_file)"
   ]
  },
  {
   "cell_type": "markdown",
   "id": "2c46e609",
   "metadata": {},
   "source": [
    "### Check validity of the inputs"
   ]
  },
  {
   "cell_type": "code",
   "execution_count": 4,
   "id": "8f217242",
   "metadata": {},
   "outputs": [
    {
     "name": "stdout",
     "output_type": "stream",
     "text": [
      "Validation data ready: True\n"
     ]
    }
   ],
   "source": [
    "# Check if you can read the geodata \n",
    "\n",
    "inputs_valid = validation.check_inputs()\n",
    "print('Validation data ready: {}'.format(inputs_valid))"
   ]
  },
  {
   "cell_type": "code",
   "execution_count": 5,
   "id": "d20976e6",
   "metadata": {},
   "outputs": [
    {
     "data": {
      "text/html": [
       "<div>\n",
       "<style scoped>\n",
       "    .dataframe tbody tr th:only-of-type {\n",
       "        vertical-align: middle;\n",
       "    }\n",
       "\n",
       "    .dataframe tbody tr th {\n",
       "        vertical-align: top;\n",
       "    }\n",
       "\n",
       "    .dataframe thead th {\n",
       "        text-align: right;\n",
       "    }\n",
       "</style>\n",
       "<table border=\"1\" class=\"dataframe\">\n",
       "  <thead>\n",
       "    <tr style=\"text-align: right;\">\n",
       "      <th></th>\n",
       "      <th>point_id</th>\n",
       "      <th>survey_dat</th>\n",
       "      <th>gps_altitu</th>\n",
       "      <th>gps_lat</th>\n",
       "      <th>gps_long</th>\n",
       "      <th>nuts0</th>\n",
       "      <th>obs_dist</th>\n",
       "      <th>obs_type</th>\n",
       "      <th>lc1</th>\n",
       "      <th>lc1_perc</th>\n",
       "      <th>label_l1</th>\n",
       "      <th>geometry</th>\n",
       "    </tr>\n",
       "  </thead>\n",
       "  <tbody>\n",
       "    <tr>\n",
       "      <th>0</th>\n",
       "      <td>48262936</td>\n",
       "      <td>2018-05-10</td>\n",
       "      <td>309</td>\n",
       "      <td>49.321800</td>\n",
       "      <td>16.956880</td>\n",
       "      <td>CZ</td>\n",
       "      <td>6.0</td>\n",
       "      <td>1</td>\n",
       "      <td>C33</td>\n",
       "      <td>5</td>\n",
       "      <td>NaN</td>\n",
       "      <td>POINT (4826005.575 2935998.024)</td>\n",
       "    </tr>\n",
       "    <tr>\n",
       "      <th>1</th>\n",
       "      <td>47162980</td>\n",
       "      <td>2018-08-02</td>\n",
       "      <td>409</td>\n",
       "      <td>49.799533</td>\n",
       "      <td>15.492019</td>\n",
       "      <td>CZ</td>\n",
       "      <td>22.0</td>\n",
       "      <td>1</td>\n",
       "      <td>B75</td>\n",
       "      <td>4</td>\n",
       "      <td>3.0</td>\n",
       "      <td>POINT (4716021.636 2979995.779)</td>\n",
       "    </tr>\n",
       "    <tr>\n",
       "      <th>2</th>\n",
       "      <td>46183058</td>\n",
       "      <td>2018-07-19</td>\n",
       "      <td>242</td>\n",
       "      <td>50.557290</td>\n",
       "      <td>14.193572</td>\n",
       "      <td>CZ</td>\n",
       "      <td>0.0</td>\n",
       "      <td>1</td>\n",
       "      <td>B13</td>\n",
       "      <td>3</td>\n",
       "      <td>2.0</td>\n",
       "      <td>POINT (4617999.865 3057999.905)</td>\n",
       "    </tr>\n",
       "    <tr>\n",
       "      <th>3</th>\n",
       "      <td>45262962</td>\n",
       "      <td>2018-07-17</td>\n",
       "      <td>545</td>\n",
       "      <td>49.734924</td>\n",
       "      <td>12.844097</td>\n",
       "      <td>CZ</td>\n",
       "      <td>0.0</td>\n",
       "      <td>1</td>\n",
       "      <td>B35</td>\n",
       "      <td>4</td>\n",
       "      <td>2.0</td>\n",
       "      <td>POINT (4526000.963 2961999.910)</td>\n",
       "    </tr>\n",
       "    <tr>\n",
       "      <th>4</th>\n",
       "      <td>47463004</td>\n",
       "      <td>2018-07-24</td>\n",
       "      <td>251</td>\n",
       "      <td>49.993666</td>\n",
       "      <td>15.933803</td>\n",
       "      <td>CZ</td>\n",
       "      <td>0.0</td>\n",
       "      <td>1</td>\n",
       "      <td>B11</td>\n",
       "      <td>4</td>\n",
       "      <td>2.0</td>\n",
       "      <td>POINT (4745999.810 3004000.403)</td>\n",
       "    </tr>\n",
       "  </tbody>\n",
       "</table>\n",
       "</div>"
      ],
      "text/plain": [
       "   point_id  survey_dat  gps_altitu    gps_lat   gps_long nuts0  obs_dist  \\\n",
       "0  48262936  2018-05-10         309  49.321800  16.956880    CZ       6.0   \n",
       "1  47162980  2018-08-02         409  49.799533  15.492019    CZ      22.0   \n",
       "2  46183058  2018-07-19         242  50.557290  14.193572    CZ       0.0   \n",
       "3  45262962  2018-07-17         545  49.734924  12.844097    CZ       0.0   \n",
       "4  47463004  2018-07-24         251  49.993666  15.933803    CZ       0.0   \n",
       "\n",
       "   obs_type  lc1  lc1_perc  label_l1                         geometry  \n",
       "0         1  C33         5       NaN  POINT (4826005.575 2935998.024)  \n",
       "1         1  B75         4       3.0  POINT (4716021.636 2979995.779)  \n",
       "2         1  B13         3       2.0  POINT (4617999.865 3057999.905)  \n",
       "3         1  B35         4       2.0  POINT (4526000.963 2961999.910)  \n",
       "4         1  B11         4       2.0  POINT (4745999.810 3004000.403)  "
      ]
     },
     "execution_count": 5,
     "metadata": {},
     "output_type": "execute_result"
    }
   ],
   "source": [
    "# Check contents of the raster and vector geodata \n",
    "\n",
    "with open(config_file) as file:\n",
    "    cfg = yaml.load(file, Loader=yaml.FullLoader)\n",
    "    \n",
    "# Vector data\n",
    "vector_fn = os.path.join(cfg['input']['path'], cfg['input']['in_vec'])\n",
    "gdf = gpd.read_file(vector_fn)\n",
    "\n",
    "gdf.head()"
   ]
  },
  {
   "cell_type": "code",
   "execution_count": 6,
   "id": "8e06365c-9050-4a85-9505-dce1e7334796",
   "metadata": {},
   "outputs": [
    {
     "name": "stdout",
     "output_type": "stream",
     "text": [
      "legend:\n",
      "    1: Artificial\n",
      "    2: Cropland\n",
      "    3: Perenial\n",
      "    4: Forest\n",
      "    5: Shrubland\n",
      "    6: Grassland\n",
      "    7: Barren\n",
      "    8: Wetlands\n",
      "    9: Water\n",
      "    10: Glaciers\n",
      "\n"
     ]
    }
   ],
   "source": [
    "# Check the legend\n",
    "\n",
    "legend_file = './sample_land_cover/legend.yaml'\n",
    "with open(legend_file, 'r')as file: \n",
    "    legend = file.read()\n",
    "print(legend)"
   ]
  },
  {
   "cell_type": "code",
   "execution_count": 7,
   "id": "9c62233d",
   "metadata": {},
   "outputs": [
    {
     "data": {
      "text/plain": [
       "<AxesSubplot:ylabel='label_l1'>"
      ]
     },
     "execution_count": 7,
     "metadata": {},
     "output_type": "execute_result"
    },
    {
     "data": {
      "image/png": "[encoded data removed]",
      "text/plain": [
       "<Figure size 504x504 with 1 Axes>"
      ]
     },
     "metadata": {},
     "output_type": "display_data"
    }
   ],
   "source": [
    "# view distribution of the classes \n",
    "\n",
    "attribute = cfg['input']['ref_att']\n",
    "gdf[attribute].value_counts().plot.pie(figsize=(7, 7), autopct='%1.1f%%')"
   ]
  },
  {
   "cell_type": "code",
   "execution_count": 8,
   "id": "0bce4e9f-3e28-496b-94d2-a6f3882afef4",
   "metadata": {},
   "outputs": [
    {
     "data": {
      "application/vnd.jupyter.widget-view+json": {
       "model_id": "b72e1e024a1f4a4da66ee57409d87962",
       "version_major": 2,
       "version_minor": 0
      },
      "text/plain": [
       "Map(center=[50, 15], controls=(ZoomControl(options=['position', 'zoom_in_text', 'zoom_in_title', 'zoom_out_tex…"
      ]
     },
     "metadata": {},
     "output_type": "display_data"
    }
   ],
   "source": [
    "# Show a map of the data\n",
    "\n",
    "from ipyleaflet import Map, GeoData, basemaps, LayersControl\n",
    "\n",
    "m = Map(center=(50,15), zoom = 7, basemap= basemaps.OpenStreetMap.Mapnik)\n",
    "\n",
    "lucas_gd = GeoData(geo_dataframe = gdf.to_crs(\"EPSG:4326\"),\n",
    "                   style={'color': 'black', 'fillColor': '#3366cc', 'opacity':0.6, 'weight':1.9, 'dashArray':'2', 'fillOpacity':0.2},\n",
    "                   name = 'LUCAS points')\n",
    "\n",
    "m.add_layer(lucas_gd)\n",
    "m.add_control(LayersControl())\n",
    "\n",
    "m"
   ]
  },
  {
   "cell_type": "markdown",
   "id": "8ce5be84",
   "metadata": {},
   "source": [
    "### Run land cover map and reference overlay"
   ]
  },
  {
   "cell_type": "code",
   "execution_count": 9,
   "id": "2d6a0d78",
   "metadata": {},
   "outputs": [
    {
     "name": "stdout",
     "output_type": "stream",
     "text": [
      "\n",
      "\n",
      "Processed: 100% | 4930 reference points.\n"
     ]
    },
    {
     "data": {
      "text/plain": [
       "0"
      ]
     },
     "execution_count": 9,
     "metadata": {},
     "output_type": "execute_result"
    }
   ],
   "source": [
    "validation.overlay()"
   ]
  },
  {
   "cell_type": "markdown",
   "id": "2072e116",
   "metadata": {},
   "source": [
    "### Report the validation results "
   ]
  },
  {
   "cell_type": "code",
   "execution_count": 10,
   "id": "9ccac8c8",
   "metadata": {},
   "outputs": [
    {
     "name": "stdout",
     "output_type": "stream",
     "text": [
      "Validation indicators: \n",
      "---\n",
      "Overall map accuracy is 84.16 %\n",
      "No. passed: 3426\n",
      "No. failed: 645\n",
      "No. points used in validation: 4071\n"
     ]
    },
    {
     "data": {
      "text/plain": [
       "0"
      ]
     },
     "execution_count": 10,
     "metadata": {},
     "output_type": "execute_result"
    }
   ],
   "source": [
    "# short report\n",
    "validation.short_report()"
   ]
  },
  {
   "cell_type": "code",
   "execution_count": 11,
   "id": "f22c7b7c",
   "metadata": {
    "scrolled": false
   },
   "outputs": [
    {
     "name": "stdout",
     "output_type": "stream",
     "text": [
      "\n",
      "\n",
      "Machine learning validation indicators (per class): \n",
      "---\n",
      "              precision    recall  f1-score   support\n",
      "\n",
      "           1       0.44      0.84      0.58       185\n",
      "           2       0.86      0.97      0.91      1801\n",
      "           3       0.62      0.13      0.22        61\n",
      "           4       0.93      0.90      0.92       989\n",
      "           5       0.15      0.18      0.16        17\n",
      "           6       0.91      0.63      0.75       952\n",
      "           7       0.62      0.11      0.19        46\n",
      "           8       0.25      0.27      0.26        11\n",
      "           9       0.30      0.33      0.32         9\n",
      "\n",
      "    accuracy                           0.84      4071\n",
      "   macro avg       0.56      0.49      0.48      4071\n",
      "weighted avg       0.86      0.84      0.84      4071\n",
      "\n",
      "Classical LC validation indicators: \n",
      "---\n",
      "overall_accuracy :  0.8416\n",
      "producers_accuracy :  0.8583\n",
      "users_accuracy :  0.8416\n",
      "kappa :  0.7670\n",
      "\n",
      "\n"
     ]
    },
    {
     "data": {
      "text/plain": [
       "0"
      ]
     },
     "execution_count": 11,
     "metadata": {},
     "output_type": "execute_result"
    }
   ],
   "source": [
    "# full report\n",
    "validation.report()"
   ]
  },
  {
   "cell_type": "code",
   "execution_count": 12,
   "id": "d84f06e2",
   "metadata": {},
   "outputs": [
    {
     "name": "stdout",
     "output_type": "stream",
     "text": [
      "Saving validation report:\n",
      "---\n",
      "cz_lc_18_validation_report.txt\n",
      "\n",
      "\n"
     ]
    },
    {
     "data": {
      "text/plain": [
       "0"
      ]
     },
     "execution_count": 12,
     "metadata": {},
     "output_type": "execute_result"
    }
   ],
   "source": [
    "# Save the validation report to a text file for a future use\n",
    "validation.save_report()"
   ]
  },
  {
   "cell_type": "markdown",
   "id": "a97c79d8",
   "metadata": {},
   "source": [
    "### Plot confusion matrix"
   ]
  },
  {
   "cell_type": "code",
   "execution_count": 13,
   "id": "6d27da8b",
   "metadata": {},
   "outputs": [
    {
     "data": {
      "image/png": "[encoded data removed]",
      "text/plain": [
       "<Figure size 432x288 with 2 Axes>"
      ]
     },
     "metadata": {
      "needs_background": "light"
     },
     "output_type": "display_data"
    },
    {
     "data": {
      "text/plain": [
       "0"
      ]
     },
     "execution_count": 13,
     "metadata": {},
     "output_type": "execute_result"
    }
   ],
   "source": [
    "validation.show_confusion_matrix()"
   ]
  },
  {
   "cell_type": "code",
   "execution_count": 14,
   "id": "e2167482-35a5-4eb6-9f0b-22c436285fcb",
   "metadata": {},
   "outputs": [
    {
     "name": "stdout",
     "output_type": "stream",
     "text": [
      "legend:\n",
      "    1: Artificial\n",
      "    2: Cropland\n",
      "    3: Perenial\n",
      "    4: Forest\n",
      "    5: Shrubland\n",
      "    6: Grassland\n",
      "    7: Barren\n",
      "    8: Wetlands\n",
      "    9: Water\n",
      "    10: Glaciers\n",
      "\n"
     ]
    }
   ],
   "source": [
    "# Check the legend again\n",
    "\n",
    "print(legend)"
   ]
  },
  {
   "cell_type": "code",
   "execution_count": 15,
   "id": "45f3ac1c",
   "metadata": {},
   "outputs": [
    {
     "data": {
      "text/plain": [
       "0"
      ]
     },
     "execution_count": 15,
     "metadata": {},
     "output_type": "execute_result"
    },
    {
     "data": {
      "image/png": "[encoded data removed]",
      "text/plain": [
       "<Figure size 432x288 with 2 Axes>"
      ]
     },
     "metadata": {
      "needs_background": "light"
     },
     "output_type": "display_data"
    }
   ],
   "source": [
    "# Save the confusion matrix\n",
    "\n",
    "validation.save_normalized_confusion_matrix()"
   ]
  },
  {
   "cell_type": "code",
   "execution_count": null,
   "id": "a6993cc9",
   "metadata": {},
   "outputs": [],
   "source": [
    "# You can also save the plots into the validation directory for later use \n",
    "# validation.save_confusion_matrix()\n",
    "# validation.save_normalized_confusion_matrix()"
   ]
  },
  {
   "cell_type": "markdown",
   "id": "131c2d95",
   "metadata": {},
   "source": [
    "### Save the validation overlay geodata to a vector"
   ]
  },
  {
   "cell_type": "markdown",
   "id": "5e1a5113",
   "metadata": {},
   "source": [
    " You can "
   ]
  },
  {
   "cell_type": "code",
   "execution_count": 16,
   "id": "2b5e15a2",
   "metadata": {},
   "outputs": [
    {
     "name": "stdout",
     "output_type": "stream",
     "text": [
      "Saving validation data:\n",
      "---\n",
      "Vector data: validation_points.shp created from overlay data\n"
     ]
    },
    {
     "data": {
      "text/plain": [
       "0"
      ]
     },
     "execution_count": 16,
     "metadata": {},
     "output_type": "execute_result"
    }
   ],
   "source": [
    "validation.save_vec()"
   ]
  },
  {
   "cell_type": "markdown",
   "id": "7ca28629-1471-484d-851f-22db3ee241d0",
   "metadata": {},
   "source": [
    "### Classes aggregation "
   ]
  },
  {
   "cell_type": "code",
   "execution_count": 17,
   "id": "05d440e6-9c24-4a7a-8742-beaed6f81903",
   "metadata": {},
   "outputs": [],
   "source": [
    "config_aggregation = {\n",
    "    'project':\n",
    "      {'name': 'Geoharmonizer Land Cover validation', \n",
    "      'abbrev': 'cz_lc_18', \n",
    "      'run_id': '20210907'\n",
    "      }, \n",
    "    'input':\n",
    "      {'path': './sample_land_cover', \n",
    "      'in_ras': 'cz_land_cover_osm_2018.tif', \n",
    "      'ndv': 0, \n",
    "      'legend': 'legend.yaml', \n",
    "      'in_vec': 'cz_lucas_points_l1_2018.shp', \n",
    "      'ref_att': 'label_l1'\n",
    "      }, \n",
    "    'report':\n",
    "      {'path': './sample_land_cover', \n",
    "      'dir_name': 'lc_2018_validation_aggregation'\n",
    "      }, \n",
    "    'validation_points': \n",
    "      {'file_name': 'validation_points', \n",
    "       'ogr_format': 'ESRI Shapefile',\n",
    "       'epsg': 3035 \n",
    "      }\n",
    "}"
   ]
  },
  {
   "cell_type": "code",
   "execution_count": 18,
   "id": "737f549a-eb33-4d13-ad07-e6441d2437f1",
   "metadata": {},
   "outputs": [
    {
     "name": "stdout",
     "output_type": "stream",
     "text": [
      "\n",
      "\n",
      "Validation project initialized!\n",
      "Inputs: \n",
      "cz_land_cover_osm_2018.tif\n",
      "cz_lucas_points_l1_2018.shp\n",
      "\n",
      "\n"
     ]
    }
   ],
   "source": [
    "validation_lc_aggregated = Validator(config_aggregation)"
   ]
  },
  {
   "cell_type": "code",
   "execution_count": 19,
   "id": "90e21ce6-b581-4c7d-8e0c-78c42e8d8f50",
   "metadata": {},
   "outputs": [],
   "source": [
    "# 2: agriculture (arable land & grassland)\n",
    "aggregartion = {\n",
    "    2: [2, 6]\n",
    "}"
   ]
  },
  {
   "cell_type": "code",
   "execution_count": 20,
   "id": "65e5cf8a-33c7-4016-b87b-de68ca903cad",
   "metadata": {},
   "outputs": [
    {
     "name": "stdout",
     "output_type": "stream",
     "text": [
      "\n",
      "\n",
      "Processed: 100% | 4930 reference points.\n"
     ]
    },
    {
     "data": {
      "text/plain": [
       "0"
      ]
     },
     "execution_count": 20,
     "metadata": {},
     "output_type": "execute_result"
    }
   ],
   "source": [
    "validation_lc_aggregated.overlay(aggregartion)"
   ]
  },
  {
   "cell_type": "code",
   "execution_count": 21,
   "id": "799cba14-708e-46e3-912e-37aec3d49c6a",
   "metadata": {},
   "outputs": [
    {
     "name": "stdout",
     "output_type": "stream",
     "text": [
      "\n",
      "\n",
      "Machine learning validation indicators (per class): \n",
      "---\n",
      "              precision    recall  f1-score   support\n",
      "\n",
      "           1       0.65      0.90      0.76       174\n",
      "           2       1.00      1.00      1.00      3113\n",
      "           3       1.00      0.18      0.31        44\n",
      "           4       0.97      0.95      0.96       945\n",
      "           5       0.21      0.25      0.23        12\n",
      "           7       0.71      0.25      0.37        20\n",
      "           8       0.30      0.43      0.35         7\n",
      "           9       0.33      0.38      0.35         8\n",
      "\n",
      "    accuracy                           0.97      4323\n",
      "   macro avg       0.65      0.54      0.54      4323\n",
      "weighted avg       0.97      0.97      0.97      4323\n",
      "\n",
      "Classical LC validation indicators: \n",
      "---\n",
      "overall_accuracy :  0.9683\n",
      "producers_accuracy :  0.9735\n",
      "users_accuracy :  0.9683\n",
      "kappa :  0.9267\n",
      "\n",
      "\n"
     ]
    },
    {
     "data": {
      "text/plain": [
       "0"
      ]
     },
     "execution_count": 21,
     "metadata": {},
     "output_type": "execute_result"
    }
   ],
   "source": [
    "validation_lc_aggregated.report()"
   ]
  },
  {
   "cell_type": "code",
   "execution_count": 22,
   "id": "738b3fe6-53fa-4ecd-9028-46e5e6c1ad91",
   "metadata": {},
   "outputs": [
    {
     "data": {
      "image/png": "[encoded data removed]",
      "text/plain": [
       "<Figure size 432x288 with 2 Axes>"
      ]
     },
     "metadata": {
      "needs_background": "light"
     },
     "output_type": "display_data"
    },
    {
     "data": {
      "text/plain": [
       "0"
      ]
     },
     "execution_count": 22,
     "metadata": {},
     "output_type": "execute_result"
    }
   ],
   "source": [
    "validation_lc_aggregated.show_confusion_matrix()"
   ]
  }
 ],
 "metadata": {
  "kernelspec": {
   "display_name": "Python 3 (ipykernel)",
   "language": "python",
   "name": "python3"
  },
  "language_info": {
   "codemirror_mode": {
    "name": "ipython",
    "version": 3
   },
   "file_extension": ".py",
   "mimetype": "text/x-python",
   "name": "python",
   "nbconvert_exporter": "python",
   "pygments_lexer": "ipython3",
   "version": "3.10.4"
  }
 },
 "nbformat": 4,
 "nbformat_minor": 5
}
